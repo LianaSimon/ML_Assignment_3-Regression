{
 "cells": [
  {
   "cell_type": "markdown",
   "id": "58560b7b-8869-44ee-b56d-90fabd0ef88a",
   "metadata": {},
   "source": [
    "# REGRESSION\n",
    "\n",
    "### Objective:\n",
    "#### The objective of this assignment is to evaluate your understanding of regression techniques in supervised learning by applying them to a real-world dataset."
   ]
  },
  {
   "cell_type": "markdown",
   "id": "6ffc47ac-f055-40a1-adcc-c8fe0a8553d8",
   "metadata": {},
   "source": [
    "## California Housing Regression Assignment"
   ]
  },
  {
   "cell_type": "markdown",
   "id": "e1b8c69a-5556-4467-acee-ccfaf1bd2177",
   "metadata": {},
   "source": [
    "### -------------------------\n",
    "### 1. Load and Preprocess\n",
    "### -------------------------"
   ]
  },
  {
   "cell_type": "code",
   "execution_count": 61,
   "id": "6324b231-c546-465b-bfb9-56e80fab305a",
   "metadata": {},
   "outputs": [],
   "source": [
    "from sklearn.datasets import fetch_california_housing\n",
    "import pandas as pd\n",
    "import numpy as np\n",
    "from sklearn.preprocessing import StandardScaler"
   ]
  },
  {
   "cell_type": "code",
   "execution_count": 62,
   "id": "6bdfe24a-23e7-42a3-a891-79d2d50c3085",
   "metadata": {},
   "outputs": [],
   "source": [
    "# Load dataset\n",
    "california = fetch_california_housing()\n",
    "df = pd.DataFrame(california.data, columns=california.feature_names)\n",
    "df['MedHouseVal'] = california.target\n",
    "\n"
   ]
  },
  {
   "cell_type": "code",
   "execution_count": 63,
   "id": "4dfc4a4d-033c-4a85-ab18-3e4fdcdb1020",
   "metadata": {},
   "outputs": [
    {
     "name": "stdout",
     "output_type": "stream",
     "text": [
      "Missing values in each column:\n",
      " MedInc         0\n",
      "HouseAge       0\n",
      "AveRooms       0\n",
      "AveBedrms      0\n",
      "Population     0\n",
      "AveOccup       0\n",
      "Latitude       0\n",
      "Longitude      0\n",
      "MedHouseVal    0\n",
      "dtype: int64\n"
     ]
    }
   ],
   "source": [
    "# Check for missing values\n",
    "print(\"Missing values in each column:\\n\", df.isnull().sum())"
   ]
  },
  {
   "cell_type": "code",
   "execution_count": 64,
   "id": "22a92217-2c1e-4065-9df3-a9512397b214",
   "metadata": {},
   "outputs": [],
   "source": [
    "# Feature scaling (standardization)\n",
    "scaler = StandardScaler()\n",
    "scaled_features = scaler.fit_transform(df.drop('MedHouseVal', axis=1))\n",
    "scaled_df = pd.DataFrame(scaled_features, columns=california.feature_names)\n",
    "scaled_df['MedHouseVal'] = df['MedHouseVal']\n",
    "\n"
   ]
  },
  {
   "cell_type": "code",
   "execution_count": 67,
   "id": "99aaf40d-6182-41df-ae9d-63e9628732a5",
   "metadata": {},
   "outputs": [
    {
     "name": "stdout",
     "output_type": "stream",
     "text": [
      "\n",
      "First 5 rows of the preprocessed dataset:\n",
      "     MedInc  HouseAge  AveRooms  AveBedrms  Population  AveOccup  Latitude  \\\n",
      "0  2.344766  0.982143  0.628559  -0.153758   -0.974429 -0.049597  1.052548   \n",
      "1  2.332238 -0.607019  0.327041  -0.263336    0.861439 -0.092512  1.043185   \n",
      "2  1.782699  1.856182  1.155620  -0.049016   -0.820777 -0.025843  1.038503   \n",
      "3  0.932968  1.856182  0.156966  -0.049833   -0.766028 -0.050329  1.038503   \n",
      "4 -0.012881  1.856182  0.344711  -0.032906   -0.759847 -0.085616  1.038503   \n",
      "\n",
      "   Longitude  MedHouseVal  \n",
      "0  -1.327835        4.526  \n",
      "1  -1.322844        3.585  \n",
      "2  -1.332827        3.521  \n",
      "3  -1.337818        3.413  \n",
      "4  -1.337818        3.422  \n"
     ]
    }
   ],
   "source": [
    "# Preview the preprocessed data\n",
    "print(\"\\nFirst 5 rows of the preprocessed dataset:\")\n",
    "print(scaled_df.head())"
   ]
  },
  {
   "cell_type": "markdown",
   "id": "e321d5d5-4d4b-45c8-b1c4-734ba39a2d8d",
   "metadata": {},
   "source": [
    "### -------------------------\n",
    "### 2. Regression Models\n",
    "### -------------------------\n"
   ]
  },
  {
   "cell_type": "code",
   "execution_count": 39,
   "id": "15f7a849-362f-40bf-9cac-06ecf9ccd69d",
   "metadata": {},
   "outputs": [],
   "source": [
    "from sklearn.model_selection import train_test_split\n",
    "from sklearn.linear_model import LinearRegression\n",
    "from sklearn.tree import DecisionTreeRegressor\n",
    "from sklearn.ensemble import RandomForestRegressor, GradientBoostingRegressor\n",
    "from sklearn.svm import SVR\n",
    "from sklearn.metrics import mean_squared_error, mean_absolute_error, r2_score\n"
   ]
  },
  {
   "cell_type": "code",
   "execution_count": 41,
   "id": "395990ea-436f-4d15-8419-3aecfb788e23",
   "metadata": {},
   "outputs": [],
   "source": [
    "# Train-test split\n",
    "X = scaled_df.drop('MedHouseVal', axis=1)\n",
    "y = scaled_df['MedHouseVal']\n",
    "X_train, X_test, y_train, y_test = train_test_split(X, y, test_size=0.2, random_state=42)"
   ]
  },
  {
   "cell_type": "code",
   "execution_count": 43,
   "id": "ba18e29d-88e5-4c9f-b56e-69fc50e777ae",
   "metadata": {},
   "outputs": [],
   "source": [
    "# Function to evaluate models\n",
    "def evaluate_model(model):\n",
    "    model.fit(X_train, y_train)\n",
    "    y_pred = model.predict(X_test)\n",
    "    mse = mean_squared_error(y_test, y_pred)\n",
    "    mae = mean_absolute_error(y_test, y_pred)\n",
    "    r2 = r2_score(y_test, y_pred)\n",
    "    print(f\"{model.__class__.__name__} Evaluation:\")\n",
    "    print(f\"MSE: {mse:.4f}, MAE: {mae:.4f}, R²: {r2:.4f}\\n\")\n",
    "    return mse, mae, r2"
   ]
  },
  {
   "cell_type": "code",
   "execution_count": 45,
   "id": "8b6c8357-1cb8-4a79-b913-ff4faffdee24",
   "metadata": {},
   "outputs": [],
   "source": [
    "# Define models\n",
    "models = {\n",
    "    \"Linear Regression\": LinearRegression(),\n",
    "    \"Decision Tree\": DecisionTreeRegressor(random_state=42),\n",
    "    \"Random Forest\": RandomForestRegressor(random_state=42),\n",
    "    \"Gradient Boosting\": GradientBoostingRegressor(random_state=42),\n",
    "    \"SVR\": SVR()\n",
    "}"
   ]
  },
  {
   "cell_type": "code",
   "execution_count": 47,
   "id": "aa97b3f7-dc54-453d-a6db-fb5391aa6363",
   "metadata": {},
   "outputs": [],
   "source": [
    "# Function to evaluate models\n",
    "def evaluate_model(model):\n",
    "    model.fit(X_train, y_train)\n",
    "    y_pred = model.predict(X_test)\n",
    "    mse = mean_squared_error(y_test, y_pred)\n",
    "    mae = mean_absolute_error(y_test, y_pred)\n",
    "    r2 = r2_score(y_test, y_pred)\n",
    "    print(f\"{model.__class__.__name__} Evaluation:\")\n",
    "    print(f\"MSE: {mse:.4f}, MAE: {mae:.4f}, R²: {r2:.4f}\\n\")\n",
    "    return mse, mae, r2\n"
   ]
  },
  {
   "cell_type": "code",
   "execution_count": 49,
   "id": "675c9193-3600-4d4c-baed-87d9cdf9a578",
   "metadata": {},
   "outputs": [],
   "source": [
    "# Define models\n",
    "models = {\n",
    "    \"Linear Regression\": LinearRegression(),\n",
    "    \"Decision Tree\": DecisionTreeRegressor(random_state=42),\n",
    "    \"Random Forest\": RandomForestRegressor(random_state=42),\n",
    "    \"Gradient Boosting\": GradientBoostingRegressor(random_state=42),\n",
    "    \"SVR\": SVR()\n",
    "}\n"
   ]
  },
  {
   "cell_type": "code",
   "execution_count": 51,
   "id": "c28d36b3-9a32-4eff-80c5-d73f95814c64",
   "metadata": {},
   "outputs": [
    {
     "name": "stdout",
     "output_type": "stream",
     "text": [
      "Running Linear Regression...\n",
      "LinearRegression Evaluation:\n",
      "MSE: 0.5559, MAE: 0.5332, R²: 0.5758\n",
      "\n",
      "Running Decision Tree...\n",
      "DecisionTreeRegressor Evaluation:\n",
      "MSE: 0.4943, MAE: 0.4538, R²: 0.6228\n",
      "\n",
      "Running Random Forest...\n",
      "RandomForestRegressor Evaluation:\n",
      "MSE: 0.2555, MAE: 0.3276, R²: 0.8050\n",
      "\n",
      "Running Gradient Boosting...\n",
      "GradientBoostingRegressor Evaluation:\n",
      "MSE: 0.2940, MAE: 0.3717, R²: 0.7756\n",
      "\n",
      "Running SVR...\n",
      "SVR Evaluation:\n",
      "MSE: 0.3552, MAE: 0.3978, R²: 0.7289\n",
      "\n"
     ]
    }
   ],
   "source": [
    "# Evaluate and store results\n",
    "results = {}\n",
    "for name, model in models.items():\n",
    "    print(f\"Running {name}...\")\n",
    "    mse, mae, r2 = evaluate_model(model)\n",
    "    results[name] = {\"MSE\": mse, \"MAE\": mae, \"R²\": r2}"
   ]
  },
  {
   "cell_type": "code",
   "execution_count": 57,
   "id": "193cc14d-4289-4733-b102-a3119cbc0ddb",
   "metadata": {},
   "outputs": [
    {
     "name": "stdout",
     "output_type": "stream",
     "text": [
      "\n",
      "Model Evaluation Results Summary:\n",
      "\n",
      "                        MSE       MAE        R²\n",
      "Linear Regression  0.555892  0.533200  0.575788\n",
      "Decision Tree      0.494272  0.453784  0.622811\n",
      "Random Forest      0.255498  0.327613  0.805024\n",
      "Gradient Boosting  0.293999  0.371650  0.775643\n",
      "SVR                0.355198  0.397763  0.728941\n"
     ]
    }
   ],
   "source": [
    "# Convert to DataFrame and display\n",
    "results_df = pd.DataFrame(results).T\n",
    "print(\"\\nModel Evaluation Results Summary:\\n\")\n",
    "print(results_df)"
   ]
  },
  {
   "cell_type": "markdown",
   "id": "1606f637-be61-45ee-9322-ed1021fac194",
   "metadata": {},
   "source": [
    "\n",
    "###  -------------------------\n",
    "###  3. Summary & Conclusion\n",
    "###  -------------------------"
   ]
  },
  {
   "cell_type": "code",
   "execution_count": 56,
   "id": "89a619eb-3dc0-4c5a-ac59-4a6605f3861a",
   "metadata": {},
   "outputs": [
    {
     "name": "stdout",
     "output_type": "stream",
     "text": [
      "\n",
      "✅ Best Performing Model: Random Forest\n",
      "❌ Worst Performing Model: Linear Regression\n"
     ]
    }
   ],
   "source": [
    "# Best and worst models\n",
    "best_model = results_df['R²'].idxmax()\n",
    "worst_model = results_df['R²'].idxmin()\n",
    "\n",
    "print(f\"\\n✅ Best Performing Model: {best_model}\")\n",
    "print(f\"❌ Worst Performing Model: {worst_model}\")\n"
   ]
  },
  {
   "cell_type": "code",
   "execution_count": null,
   "id": "36e55314-db23-43bd-8517-614a5286e48a",
   "metadata": {},
   "outputs": [],
   "source": []
  },
  {
   "cell_type": "code",
   "execution_count": null,
   "id": "cbf43168-aac1-4bd9-a52f-13d49b314217",
   "metadata": {},
   "outputs": [],
   "source": []
  }
 ],
 "metadata": {
  "kernelspec": {
   "display_name": "Python [conda env:base] *",
   "language": "python",
   "name": "conda-base-py"
  },
  "language_info": {
   "codemirror_mode": {
    "name": "ipython",
    "version": 3
   },
   "file_extension": ".py",
   "mimetype": "text/x-python",
   "name": "python",
   "nbconvert_exporter": "python",
   "pygments_lexer": "ipython3",
   "version": "3.12.7"
  }
 },
 "nbformat": 4,
 "nbformat_minor": 5
}
